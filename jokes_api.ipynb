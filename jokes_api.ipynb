{
 "cells": [
  {
   "cell_type": "code",
   "execution_count": null,
   "metadata": {},
   "outputs": [],
   "source": [
    "! pip install pyjokes"
   ]
  },
  {
   "cell_type": "code",
   "execution_count": null,
   "metadata": {},
   "outputs": [],
   "source": [
    "from fastapi import FastAPI\n",
    "import pyjokes\n",
    "import uvicorn\n",
    "\n",
    "app = FastAPI()\n",
    "\n",
    "\n",
    "@app.post('/api/jokes')\n",
    "def create_joke(body:dict):\n",
    "    return [pyjokes.get_joke(category=body[\"category\"])]\n",
    "\n",
    "if __name__ == '__main__':\n",
    "    \n",
    "    uvicorn.run(app, host='0.0.0.0', port=8000)\n"
   ]
  }
 ],
 "metadata": {
  "language_info": {
   "name": "python"
  },
  "orig_nbformat": 4
 },
 "nbformat": 4,
 "nbformat_minor": 2
}
