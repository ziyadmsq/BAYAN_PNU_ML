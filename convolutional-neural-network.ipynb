{
 "cells": [
  {
   "cell_type": "markdown",
   "metadata": {
    "_uuid": "8c80a83f7fb1ab87aabbdad97d11627fb0380e8f"
   },
   "source": [
    "# Convolutional Neural Networks (CNN)"
   ]
  },
  {
   "cell_type": "code",
   "execution_count": null,
   "metadata": {
    "_cell_guid": "b1076dfc-b9ad-4769-8c92-a6c4dae69d19",
    "_uuid": "8f2839f25d086af736a60e9eeb907d3b93b6e0e5"
   },
   "outputs": [],
   "source": [
    "import numpy as np\n",
    "import pandas as pd\n",
    "import seaborn as sns\n",
    "import matplotlib.pyplot as plt\n",
    "import warnings\n",
    "# filter warnings\n",
    "warnings.filterwarnings('ignore')\n",
    "import os\n",
    "print(os.listdir(\"./data\"))"
   ]
  },
  {
   "cell_type": "markdown",
   "metadata": {
    "_cell_guid": "79c7e3d0-c299-4dcb-8224-4455121ee9b0",
    "_uuid": "d629ff2d2480ee46fbb7e2d37f6b5fab8052498a"
   },
   "source": [
    "## Loading the Data Set\n",
    "* In this part we load and visualize the data."
   ]
  },
  {
   "cell_type": "code",
   "execution_count": null,
   "metadata": {
    "_uuid": "6884db4361a209f639cd6f3bf15231d271ecf563"
   },
   "outputs": [],
   "source": [
    "# read train \n",
    "train = pd.read_csv(\"./data/train.csv\")\n",
    "print(train.shape)\n",
    "train.head()"
   ]
  },
  {
   "cell_type": "code",
   "execution_count": null,
   "metadata": {
    "_uuid": "d7ab3a0db0c87aef2bb65fae5f564ff4b1260a96"
   },
   "outputs": [],
   "source": [
    "# read test \n",
    "test= pd.read_csv(\"./data/test.csv\")\n",
    "print(test.shape)\n",
    "test.head()"
   ]
  },
  {
   "cell_type": "code",
   "execution_count": null,
   "metadata": {
    "_uuid": "318d94f6e935a6d8210d0ac03707dfa6e3946475"
   },
   "outputs": [],
   "source": [
    "# put labels into y_train variable\n",
    "Y_train = train[\"label\"]\n",
    "# Drop 'label' column\n",
    "X_train = train.drop(labels = [\"label\"],axis = 1) "
   ]
  },
  {
   "cell_type": "code",
   "execution_count": null,
   "metadata": {
    "_uuid": "8902b0312e6c047596cf27ebba554a68b82604b2"
   },
   "outputs": [],
   "source": [
    "# visualize number of digits classes\n",
    "plt.figure(figsize=(15,7))\n",
    "g = sns.countplot(Y_train, palette=\"icefire\")\n",
    "plt.title(\"Number of digit classes\")\n",
    "Y_train.value_counts()"
   ]
  },
  {
   "cell_type": "code",
   "execution_count": null,
   "metadata": {
    "_uuid": "4c9d3a1467cf82a3dff04967a9846906f9758ed4"
   },
   "outputs": [],
   "source": [
    "# plot some samples\n",
    "img = X_train.iloc[0].to_numpy()\n",
    "img = img.reshape((28,28))\n",
    "plt.imshow(img,cmap='gray')\n",
    "plt.title(train.iloc[0,0])\n",
    "plt.axis(\"off\")\n",
    "plt.show()"
   ]
  },
  {
   "cell_type": "code",
   "execution_count": null,
   "metadata": {
    "_uuid": "d6b119ecbe774a45656d1d157f9b33f38adf8e96"
   },
   "outputs": [],
   "source": [
    "# plot some samples\n",
    "img = X_train.iloc[3].to_numpy()\n",
    "img = img.reshape((28,28))\n",
    "plt.imshow(img,cmap='gray')\n",
    "plt.title(train.iloc[3,0])\n",
    "plt.axis(\"off\")\n",
    "plt.show()"
   ]
  },
  {
   "cell_type": "code",
   "execution_count": null,
   "metadata": {
    "_uuid": "f39e537f15757b5da3363c138a33e50bd78bbf49"
   },
   "outputs": [],
   "source": [
    "# Normalize the data\n",
    "X_train = X_train / 255.0\n",
    "test = test / 255.0\n",
    "print(\"x_train shape: \",X_train.shape)\n",
    "print(\"test shape: \",test.shape)"
   ]
  },
  {
   "cell_type": "code",
   "execution_count": null,
   "metadata": {
    "_uuid": "d524f6de086928158a76c54d1685a92c1802e230"
   },
   "outputs": [],
   "source": [
    "# Reshape\n",
    "X_train = X_train.reshape(-1,28,28,1)\n",
    "test = test.reshape(-1,28,28,1)\n",
    "print(\"x_train shape: \",X_train.shape)\n",
    "print(\"test shape: \",test.shape)"
   ]
  },
  {
   "cell_type": "code",
   "execution_count": null,
   "metadata": {
    "_uuid": "d15d35ca439dce194a96f4442c7a1c085ce24d28"
   },
   "outputs": [],
   "source": [
    "# Label Encoding \n",
    "from keras.utils import to_categorical \n",
    "Y_train = to_categorical(Y_train, num_classes = 10)"
   ]
  },
  {
   "cell_type": "markdown",
   "metadata": {
    "_uuid": "111d4a1e66d823363f890f892bba39d692479663"
   },
   "source": [
    "<a id=\"3\"></a>\n",
    "## Train Test Split\n",
    "* We split the data into train and test sets.\n",
    "* test size is 10%.\n",
    "* train size is 90%."
   ]
  },
  {
   "cell_type": "code",
   "execution_count": null,
   "metadata": {
    "_uuid": "882d9dfb1bee94b2ec1e83911e3e334994d74f4b"
   },
   "outputs": [],
   "source": [
    "# Split the train and the validation set for the fitting\n",
    "from sklearn.model_selection import train_test_split\n",
    "X_train, X_val, Y_train, Y_val = train_test_split(X_train, Y_train, test_size = 0.1, random_state=2)\n",
    "print(\"x_train shape\",X_train.shape)\n",
    "print(\"x_test shape\",X_val.shape)\n",
    "print(\"y_train shape\",Y_train.shape)\n",
    "print(\"y_test shape\",Y_val.shape)"
   ]
  },
  {
   "cell_type": "code",
   "execution_count": null,
   "metadata": {
    "_uuid": "1cdc57350e1c251ec583093ebba18c51a537f55f"
   },
   "outputs": [],
   "source": [
    "# Some examples\n",
    "plt.imshow(X_train[2][:,:,0],cmap='gray')\n",
    "plt.show()"
   ]
  },
  {
   "cell_type": "markdown",
   "metadata": {
    "_uuid": "caf4b9f7fcae153ac1d4c0246b1defc9d9d30776"
   },
   "source": [
    "<a id=\"4\"></a>\n",
    "## Convolutional Neural Network \n",
    "* CNN is used for image classification, object detection \n",
    "* <a href=\"https://ibb.co/kV1j9p\"><img src=\"https://preview.ibb.co/nRkBpp/gec2.jpg\" alt=\"gec2\" border=\"0\"></a>"
   ]
  },
  {
   "cell_type": "markdown",
   "metadata": {
    "_uuid": "682cb6f5144794038c0bef1dc0814dde0f7fe6c0"
   },
   "source": [
    "<a id=\"5\"></a>\n",
    "### What is Convolution Operation?\n",
    "* We have some image and feature detector(3*3)\n",
    "* Feature detector does not need to be 3 by 3 matrix. It can be 5 by 5 or 7 by 7.\n",
    "* Feature detector = kernel = filter\n",
    "* Feauture detector detects features like edges or convex shapes. Example, if out input is dog, feature detector can detect features like ear or tail of the dog.\n",
    "* feature map = conv(input image, feature detector). Element wise multiplication of matrices.\n",
    "* feature map = convolved feature\n",
    "* Stride = navigating in input image.\n",
    "* We reduce the size of image. This is important bc code runs faster. However, we lost information. \n",
    "* We create multiple feature maps bc we use multiple feature detectors(filters).\n",
    "* Lets look at gimp. Edge detect: [0,10,0],[10,-4,10],[0,10,0]\n",
    "* <a href=\"https://imgbb.com/\"><img src=\"https://image.ibb.co/m4FQC9/gec.jpg\" alt=\"gec\" border=\"0\"></a>\n",
    "* After having convolution layer we use ReLU to break up linearity. Increase nonlinearity. Because images are non linear.\n",
    "* <a href=\"https://ibb.co/mVZih9\"><img src=\"https://preview.ibb.co/gbcQvU/RELU.jpg\" alt=\"RELU\" border=\"0\"></a>"
   ]
  },
  {
   "cell_type": "markdown",
   "metadata": {
    "_uuid": "6694b8ea366f974d6bd055a2915a5dc06f7a96bb"
   },
   "source": [
    "<a id=\"7\"></a>\n",
    "### Max Pooling\n",
    "* It makes down-sampling or sub-sampling (Reduces the number of parameters)\n",
    "* It makes the detection of features invariant to scale or orientation changes.\n",
    "* It reduce the amount of parameters and computation in the network, and hence to also control overfitting. \n",
    "* <a href=\"https://ibb.co/ckTjN9\"><img src=\"https://preview.ibb.co/gsNYFU/maxpool.jpg\" alt=\"maxpool\" border=\"0\"></a>"
   ]
  },
  {
   "cell_type": "markdown",
   "metadata": {
    "_uuid": "c2fb971fc473c9104a27975242a36f8e9183742c"
   },
   "source": [
    "<a id=\"8\"></a>\n",
    "### Flattening\n",
    "* <a href=\"https://imgbb.com/\"><img src=\"https://image.ibb.co/c7eVvU/flattenigng.jpg\" alt=\"flattenigng\" border=\"0\"></a>"
   ]
  },
  {
   "cell_type": "markdown",
   "metadata": {
    "_uuid": "f437407cf18fdfacf8626baa5e76ed5d64be1a11"
   },
   "source": [
    "<a id=\"9\"></a>\n",
    "### Full Connection\n",
    "* Neurons in a fully connected layer have connections to all activations in the previous layer\n",
    "* Artificial Neural Network\n",
    "* <a href=\"https://ibb.co/hsS14p\"><img src=\"https://preview.ibb.co/evzsAU/fullyc.jpg\" alt=\"fullyc\" border=\"0\"></a>"
   ]
  },
  {
   "cell_type": "markdown",
   "metadata": {
    "_uuid": "7b290eb3f3b111d6841f8e4093277be1bde05078"
   },
   "source": [
    "<a id=\"10\"></a>\n",
    "## Implementing with Keras"
   ]
  },
  {
   "cell_type": "code",
   "execution_count": null,
   "metadata": {
    "_uuid": "c441d7b3852cee5d3636272d4da2f96b169f81ac"
   },
   "outputs": [],
   "source": [
    "# Importing necessary libraries\n",
    "from sklearn.metrics import confusion_matrix      # For creating a confusion matrix\n",
    "import itertools                                  # For various utility functions\n",
    "\n",
    "from keras.models import Sequential               # Importing the Sequential model from Keras\n",
    "from keras.layers import Dense, Dropout, Flatten, Conv2D, MaxPool2D  # Importing different types of layers from Keras\n",
    "from keras.optimizers import Adam                 # Importing Adam optimizer from Keras\n",
    "\n",
    "model = Sequential()\n",
    "# Creates a sequential model object, which allows building a model layer-by-layer\n",
    "\n",
    "model.add(Conv2D(filters = 8, kernel_size = (5,5),padding = 'Same', \n",
    "                 activation ='relu', input_shape = (28,28,1)))\n",
    "# Adds a 2D convolutional layer to the model with 8 filters, a kernel size of (5,5), same padding,\n",
    "# ReLU activation function, and an input shape of (28,28,1)\n",
    "# Convolutional layers are commonly used in image processing tasks for feature extraction\n",
    "\n",
    "model.add(MaxPool2D(pool_size=(2,2)))\n",
    "# Adds a max pooling layer to the model with a pool size of (2,2)\n",
    "# Max pooling is used to downsample the output of the previous convolutional layer\n",
    "\n",
    "model.add(Flatten())\n",
    "# Flattens the multi-dimensional output from the previous layer into a single vector\n",
    "# This is required to connect the flat vector to the fully connected layers\n",
    "\n",
    "model.add(Dense(256, activation = \"relu\"))\n",
    "# Adds a dense layer to the model with 256 units and ReLU activation function\n",
    "# Fully connected layers are used to process the flattened feature vector and capture higher-level patterns\n",
    "\n",
    "model.add(Dropout(0.5))\n",
    "# Applies dropout regularization to the previous layer with a rate of 0.5\n",
    "# Dropout helps prevent overfitting by randomly setting a fraction of input units to 0 during training\n",
    "\n",
    "model.add(Dense(10, activation = \"softmax\"))\n",
    "# Adds a dense layer to the model with 10 units and softmax activation function\n",
    "# The dense layer is typically used as the output layer in multi-class classification problems\n",
    "# Softmax activation function produces probabilities for each class"
   ]
  },
  {
   "cell_type": "code",
   "execution_count": null,
   "metadata": {
    "_uuid": "0d1eefc68470b4cdcec04c2570651da3d97676d0"
   },
   "outputs": [],
   "source": [
    "# Compile the model\n",
    "model.compile(optimizer = Adam(lr=0.001, beta_1=0.9, beta_2=0.999) , loss = \"categorical_crossentropy\", metrics=[\"accuracy\"])"
   ]
  },
  {
   "cell_type": "code",
   "execution_count": null,
   "metadata": {
    "_uuid": "a237feb5e53ecbc8799101cb6e699877faafde77"
   },
   "outputs": [],
   "source": [
    "epochs = 10  # for better result increase the epochs\n",
    "batch_size = 250"
   ]
  },
  {
   "cell_type": "markdown",
   "metadata": {
    "_uuid": "e42e43f1b3b9e6da0d99dafff8f4a4b514a07f4c"
   },
   "source": [
    "<a id=\"16\"></a>\n",
    "### Fit the model"
   ]
  },
  {
   "cell_type": "code",
   "execution_count": null,
   "metadata": {
    "_uuid": "4b2957bb8976a25cdbbbdc3110d68c5035a9773c"
   },
   "outputs": [],
   "source": [
    "# Fit the model\n",
    "history = model.fit(X_train,Y_train, batch_size=batch_size,\n",
    "                              epochs = epochs, validation_data = (X_val,Y_val))"
   ]
  },
  {
   "cell_type": "markdown",
   "metadata": {
    "_uuid": "debd5424728e11aa30a8513ac7b4f7377193a2da"
   },
   "source": [
    "<a id=\"17\"></a>\n",
    "### Evaluate the model\n",
    "* Test Loss visualization\n",
    "* Confusion matrix\n"
   ]
  },
  {
   "cell_type": "code",
   "execution_count": null,
   "metadata": {
    "_uuid": "180a06f7ae01e69117c6c8258411cfe1b9b7b991"
   },
   "outputs": [],
   "source": [
    "# Plot the loss and accuracy curves for training and validation \n",
    "plt.plot(history.history['val_loss'], color='b', label=\"validation loss\")\n",
    "plt.title(\"Test Loss\")\n",
    "plt.xlabel(\"Number of Epochs\")\n",
    "plt.ylabel(\"Loss\")\n",
    "plt.legend()\n",
    "plt.show()"
   ]
  },
  {
   "cell_type": "code",
   "execution_count": null,
   "metadata": {
    "_uuid": "6586e37bd470db822086e191a90388e7175d504f"
   },
   "outputs": [],
   "source": [
    "# confusion matrix\n",
    "import seaborn as sns\n",
    "# Predict the values from the validation dataset\n",
    "Y_pred = model.predict(X_val)\n",
    "# Convert predictions classes to one hot vectors \n",
    "Y_pred_classes = np.argmax(Y_pred,axis = 1) \n",
    "# Convert validation observations to one hot vectors\n",
    "Y_true = np.argmax(Y_val,axis = 1) \n",
    "# compute the confusion matrix\n",
    "confusion_mtx = confusion_matrix(Y_true, Y_pred_classes) \n",
    "# plot the confusion matrix\n",
    "f,ax = plt.subplots(figsize=(8, 8))\n",
    "sns.heatmap(confusion_mtx, annot=True, linewidths=0.01,cmap=\"Greens\",linecolor=\"gray\", fmt= '.1f',ax=ax)\n",
    "plt.xlabel(\"Predicted Label\")\n",
    "plt.ylabel(\"True Label\")\n",
    "plt.title(\"Confusion Matrix\")\n",
    "plt.show()"
   ]
  }
 ],
 "metadata": {
  "kernelspec": {
   "display_name": "Python 3 (ipykernel)",
   "language": "python",
   "name": "python3"
  },
  "language_info": {
   "codemirror_mode": {
    "name": "ipython",
    "version": 3
   },
   "file_extension": ".py",
   "mimetype": "text/x-python",
   "name": "python",
   "nbconvert_exporter": "python",
   "pygments_lexer": "ipython3",
   "version": "3.10.4"
  }
 },
 "nbformat": 4,
 "nbformat_minor": 4
}
