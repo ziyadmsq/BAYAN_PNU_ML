{
 "cells": [
  {
   "cell_type": "markdown",
   "metadata": {},
   "source": [
    "## Clustring"
   ]
  },
  {
   "cell_type": "code",
   "execution_count": null,
   "metadata": {},
   "outputs": [],
   "source": [
    "%matplotlib inline  \n",
    "# This line enables the inline plotting feature in Jupyter Notebook\n",
    "import numpy as np  # Importing the numpy library for array and matrix operations\n",
    "import seaborn;seaborn.set()  # Setting the plotting style to seaborn\n",
    "import pylab as pl  # Importing the pylab module from matplotlib for creating plots\n",
    "import matplotlib.pyplot as plt  # Importing the pyplot module from matplotlib for creating plots\n",
    "from sklearn.datasets import make_blobs  # Importing the make_blobs function from scikit-learn to generate synthetic datasets\n",
    "from sklearn.cluster import KMeans  # Importing the KMeans class from scikit-learn for performing K-Means clustering\n",
    "from sklearn import datasets  # Importing the datasets module from scikit-learn for accessing pre-loaded datasets\n",
    "from sklearn.decomposition import PCA  # Importing the PCA class from scikit-learn for performing Principal Component Analysis\n"
   ]
  },
  {
   "cell_type": "code",
   "execution_count": null,
   "metadata": {},
   "outputs": [],
   "source": [
    "iris = datasets.load_iris()  # Load the Iris dataset from the scikit-learn library\n",
    "\n",
    "X, y = iris.data, iris.target  # Split the dataset into feature array X and target array y\n",
    "\n",
    "pca = PCA(n_components=2)  # Create an instance of PCA with 2 components for dimensionality reduction\n",
    "\n",
    "pca.fit(X)  # Fit the PCA model to the data\n",
    "\n",
    "X_reduced = pca.transform(X)  # Transform the original data to reduced dimensions using PCA\n",
    "\n",
    "print(\"Reduced dataset shape:\", X_reduced.shape)  # Print the shape of the reduced dataset\n",
    "\n",
    "k_means = KMeans(algorithm='auto', copy_x=True, init='k-means++',\n",
    "                              max_iter=300, n_clusters=2, n_init=10)  # Create an instance of K-Means clustering algorithm with specified parameters\n",
    "\n",
    "k_means.fit(X)  # Fit the K-Means model to the original data\n",
    "\n",
    "y_pred = k_means.predict(X)  # Perform K-Means clustering on the original data and obtain predicted labels\n",
    "\n",
    "pl.scatter(X_reduced[:, 0], X_reduced[:, 1], c=y_pred,\n",
    "           cmap='RdYlBu')  # Create a scatter plot of the reduced data with colors based on the predicted labels\n"
   ]
  },
  {
   "cell_type": "code",
   "execution_count": null,
   "metadata": {},
   "outputs": [],
   "source": [
    "# create dataset\n",
    "X, y = make_blobs(\n",
    "   n_samples=150, n_features=2,\n",
    "   centers=3, cluster_std=0.5,\n",
    "   shuffle=True, random_state=0\n",
    ")\n",
    "\n",
    "# plot\n",
    "plt.scatter(\n",
    "   X[:, 0], X[:, 1],\n",
    "   c='white', marker='o',\n",
    "   edgecolor='black', s=50\n",
    ")\n",
    "plt.show()"
   ]
  },
  {
   "cell_type": "code",
   "execution_count": null,
   "metadata": {},
   "outputs": [],
   "source": [
    "from sklearn.cluster import KMeans\n",
    "\n",
    "km = KMeans(\n",
    "    n_clusters=3, init='random',\n",
    "    n_init=10, max_iter=300, \n",
    "    tol=1e-04, random_state=0\n",
    ")\n",
    "y_km = km.fit_predict(X)"
   ]
  },
  {
   "cell_type": "code",
   "execution_count": null,
   "metadata": {},
   "outputs": [],
   "source": [
    "# plot the 3 clusters\n",
    "plt.scatter(\n",
    "    X[y_km == 0, 0], X[y_km == 0, 1],\n",
    "    s=50, c='lightgreen',\n",
    "    marker='s', edgecolor='black',\n",
    "    label='cluster 1'\n",
    ")\n",
    "\n",
    "plt.scatter(\n",
    "    X[y_km == 1, 0], X[y_km == 1, 1],\n",
    "    s=50, c='orange',\n",
    "    marker='o', edgecolor='black',\n",
    "    label='cluster 2'\n",
    ")\n",
    "\n",
    "plt.scatter(\n",
    "    X[y_km == 2, 0], X[y_km == 2, 1],\n",
    "    s=50, c='lightblue',\n",
    "    marker='v', edgecolor='black',\n",
    "    label='cluster 3'\n",
    ")\n",
    "\n",
    "# plot the centroids\n",
    "plt.scatter(\n",
    "    km.cluster_centers_[:, 0], km.cluster_centers_[:, 1],\n",
    "    s=250, marker='*',\n",
    "    c='red', edgecolor='black',\n",
    "    label='centroids'\n",
    ")\n",
    "plt.legend(scatterpoints=1)\n",
    "plt.grid()\n",
    "plt.show()\n"
   ]
  },
  {
   "cell_type": "code",
   "execution_count": null,
   "metadata": {},
   "outputs": [],
   "source": [
    "# calculate distortion for a range of number of cluster\n",
    "distortions = []\n",
    "for i in range(1, 11):\n",
    "    km = KMeans(\n",
    "        n_clusters=i, init='random',\n",
    "        n_init=10, max_iter=300,\n",
    "        tol=1e-04, random_state=0\n",
    "    )\n",
    "    km.fit(X)\n",
    "    distortions.append(km.inertia_)\n",
    "\n",
    "# plot\n",
    "plt.plot(range(1, 11), distortions, marker='o')\n",
    "plt.xlabel('Number of clusters')\n",
    "plt.ylabel('Distortion')\n",
    "plt.show()"
   ]
  }
 ],
 "metadata": {
  "kernelspec": {
   "display_name": "Python 3",
   "language": "python",
   "name": "python3"
  },
  "language_info": {
   "codemirror_mode": {
    "name": "ipython",
    "version": 3
   },
   "file_extension": ".py",
   "mimetype": "text/x-python",
   "name": "python",
   "nbconvert_exporter": "python",
   "pygments_lexer": "ipython3",
   "version": "3.10.4"
  }
 },
 "nbformat": 4,
 "nbformat_minor": 4
}
