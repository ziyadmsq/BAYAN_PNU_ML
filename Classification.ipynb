{
 "cells": [
  {
   "cell_type": "markdown",
   "metadata": {},
   "source": [
    "## Classification"
   ]
  },
  {
   "cell_type": "code",
   "execution_count": null,
   "metadata": {},
   "outputs": [],
   "source": [
    "# Importing the necessary libraries\n",
    "from sklearn.datasets import load_breast_cancer  # Importing the dataset module from scikit-learn\n",
    "# Importing the module for splitting the dataset into training and testing sets\n",
    "from sklearn.model_selection import train_test_split  \n",
    "import plotly.graph_objects as go\n",
    "from sklearn.metrics import roc_curve\n",
    "\n",
    "# Loading the breast cancer dataset into a variable called 'cancer'\n",
    "cancer = load_breast_cancer()"
   ]
  },
  {
   "cell_type": "code",
   "execution_count": null,
   "metadata": {},
   "outputs": [],
   "source": [
    "cancer.feature_names"
   ]
  },
  {
   "cell_type": "code",
   "execution_count": null,
   "metadata": {},
   "outputs": [],
   "source": [
    "# Splitting the dataset into training and testing sets\n",
    "# The 'train_test_split' function takes four arguments:\n",
    "# - 'cancer.data': The features of the breast cancer dataset\n",
    "# - 'cancer.target': The target variable (labels) of the breast cancer dataset\n",
    "# - 'stratify=cancer.target': Ensures that the target variable is evenly distributed in the training and testing sets\n",
    "# - 'random_state=1': Sets a seed for random number generation, ensuring reproducibility\n",
    "\n",
    "X_train, X_test, y_train, y_test = train_test_split(\n",
    "    cancer.data, cancer.target, stratify=cancer.target, random_state=1)\n"
   ]
  },
  {
   "cell_type": "code",
   "execution_count": null,
   "metadata": {},
   "outputs": [],
   "source": [
    "# Importing the 'SVC' class from the 'sklearn.svm' module\n",
    "from sklearn.svm import SVC\n",
    "\n",
    "# Creating an instance of the 'SVC' class and setting 'probability=True'\n",
    "# NOTE: This allows the model to output probability estimates for each class\n",
    "svc = SVC(probability=True)\n",
    "\n",
    "# Training the support vector machine model with the training data\n",
    "# The 'fit' method takes two arguments:\n",
    "# - 'X_train': The input features of the training set\n",
    "# - 'y_train': The target variable (labels) of the training set\n",
    "svc.fit(X_train, y_train)\n",
    "\n",
    "# Evaluating the trained model on the testing data\n",
    "# The 'score' method calculates the accuracy of the model on the test set\n",
    "# It takes two arguments:\n",
    "# - 'X_test': The input features of the test set\n",
    "# - 'y_test': The target variable (labels) of the test set\n",
    "svc.score(X_test, y_test)\n"
   ]
  },
  {
   "cell_type": "code",
   "execution_count": null,
   "metadata": {},
   "outputs": [],
   "source": [
    "# Importing the 'GridSearchCV' class from the 'sklearn.model_selection' module\n",
    "from sklearn.model_selection import GridSearchCV\n",
    "\n",
    "# Defining a parameter grid for the hyperparameters of the SVM model.\n",
    "# The grid contains multiple dictionaries, with each dictionary specifying a set of hyperparameters to be tested.\n",
    "param_grid = [{'kernel': ['rbf'], 'gamma': [1e-3, 1e-4], 'C': [1, 10, 100, 1000]},\n",
    "              {'kernel': ['linear'], 'C': [1, 10, 100, 1000]}]\n",
    "\n",
    "# Creating an instance of the 'GridSearchCV' class\n",
    "# This class performs an exhaustive search over specified parameter values for an estimator\n",
    "grid = GridSearchCV(SVC(), param_grid=param_grid, cv=10)\n",
    "\n",
    "# Training the support vector machine model using the training data,\n",
    "# while searching for the best combination of hyperparameters\n",
    "# The 'fit' method takes two arguments:\n",
    "# - 'X_train': The input features of the training set\n",
    "# - 'y_train': The target variable (labels) of the training set\n",
    "grid.fit(X_train, y_train)\n",
    "\n",
    "# Evaluating the best model obtained from the grid search on the test data\n",
    "# The 'score' method calculates the accuracy of the model on the test set\n",
    "# It takes two arguments:\n",
    "# - 'X_test': The input features of the test set\n",
    "# - 'y_test': The target variable (labels) of the test set\n",
    "grid.score(X_test, y_test)\n"
   ]
  },
  {
   "cell_type": "markdown",
   "metadata": {},
   "source": [
    "The provided code snippet calculates the false positive rate (FPR), true positive rate (TPR), and thresholds for the receiver operating characteristic (ROC) curve. The ROC curve is a graphical representation of the performance of a binary classification model at different classification thresholds.\n",
    "\n",
    "The `roc_curve` function takes two arguments:\n",
    "- `y_test`: The true class labels for the test set.\n",
    "- `y_pred_probs`: The predicted probabilities of the positive class (class 1) for each sample in the test set.\n",
    "\n",
    "The function returns three arrays:\n",
    "- `fpr` (false positive rate): An array of shape (num_thresholds,) containing the false positive rates corresponding to different classification thresholds.\n",
    "- `tpr` (true positive rate or sensitivity): An array of shape (num_thresholds,) containing the true positive rates corresponding to different classification thresholds.\n",
    "- `thresholds`: An array of shape (num_thresholds - 1,) containing the classification thresholds used to compute the FPR and TPR.\n",
    "\n",
    "These values can be used to plot the ROC curve and evaluate the performance of the classification model based on its ability to discriminate between the positive and negative classes."
   ]
  },
  {
   "cell_type": "code",
   "execution_count": null,
   "metadata": {},
   "outputs": [],
   "source": [
    "# Predicting the probabilities of the positive class for each sample in the test set using the trained support vector machine model\n",
    "y_pred_probs = svc.predict_proba(X_test)[:, 1]\n",
    "\n",
    "# Predicting the class labels for each sample in the test set using the trained support vector machine model\n",
    "y_pred = svc.predict(X_test)"
   ]
  },
  {
   "cell_type": "code",
   "execution_count": null,
   "metadata": {},
   "outputs": [],
   "source": [
    "# Computing the false positive rate, true positive rate, and thresholds for the receiver operating characteristic (ROC) curve\n",
    "fpr, tpr, thresholds = roc_curve(y_test, y_pred_probs)"
   ]
  },
  {
   "cell_type": "code",
   "execution_count": null,
   "metadata": {},
   "outputs": [],
   "source": [
    "# Creating a scatter plot for the Receiver Operating Characteristic (ROC) curve\n",
    "fig = go.Figure(data=go.Scatter(x=fpr, y=tpr, mode='lines'))\n",
    "\n",
    "# Updating the layout of the plot\n",
    "fig.update_layout(\n",
    "    title='Receiver Operating Characteristic (ROC)',\n",
    "    xaxis=dict(title='False Positive Rate'),\n",
    "    yaxis=dict(title='True Positive Rate'),\n",
    "    showlegend=False\n",
    ")\n",
    "\n",
    "# Displaying the plot\n",
    "fig.show()\n",
    "\n"
   ]
  },
  {
   "cell_type": "code",
   "execution_count": null,
   "metadata": {},
   "outputs": [],
   "source": [
    "import matplotlib.pyplot as plt\n",
    "from sklearn.metrics import confusion_matrix\n",
    "\n",
    "\n",
    "# Get the confusion matrix\n",
    "cm = confusion_matrix(y_test, y_pred)\n",
    "\n",
    "# Create a heatmap from the confusion matrix using Plotly\n",
    "fig = go.Figure(data=go.Heatmap(z=cm, x=[0, 1], y=[0, 1]))\n",
    "fig.update_layout(title='Confusion Matrix', xaxis_title='Predicted label', yaxis_title='True label')\n",
    "fig.show()"
   ]
  },
  {
   "cell_type": "markdown",
   "metadata": {},
   "source": [
    "##  Exercise: Use another Classification"
   ]
  },
  {
   "cell_type": "code",
   "execution_count": null,
   "metadata": {},
   "outputs": [],
   "source": []
  }
 ],
 "metadata": {
  "kernelspec": {
   "display_name": "Python 3",
   "language": "python",
   "name": "python3"
  },
  "language_info": {
   "codemirror_mode": {
    "name": "ipython",
    "version": 3
   },
   "file_extension": ".py",
   "mimetype": "text/x-python",
   "name": "python",
   "nbconvert_exporter": "python",
   "pygments_lexer": "ipython3",
   "version": "3.10.4"
  }
 },
 "nbformat": 4,
 "nbformat_minor": 4
}
