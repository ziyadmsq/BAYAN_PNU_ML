{
 "cells": [
  {
   "cell_type": "code",
   "execution_count": null,
   "metadata": {},
   "outputs": [],
   "source": [
    "from __future__ import print_function\n",
    "# This import statement enables the use of the print() function from Python 3.x syntax, even if running on Python 2.x\n",
    "\n",
    "from keras.preprocessing import sequence\n",
    "# Importing the \"sequence\" module from Keras' preprocessing package, which provides functions for sequence data preprocessing\n",
    "\n",
    "from keras.models import Sequential\n",
    "# Importing the \"Sequential\" class from Keras' models module, which represents a linear stack of layers in a neural network\n",
    "\n",
    "from keras.layers import Dense, Embedding\n",
    "# Importing the \"Dense\" and \"Embedding\" layer classes from Keras' layers module, which are used to define the structure of the neural network\n",
    "\n",
    "from keras.layers import LSTM\n",
    "# Importing the \"LSTM\" layer class from Keras' layers module, which represents a Long Short-Term Memory layer\n",
    "\n",
    "from keras.datasets import imdb\n",
    "# Importing the \"imdb\" module from Keras' datasets package, which provides access to the IMDb movie review sentiment classification dataset\n",
    "import tensorflow as tf"
   ]
  },
  {
   "cell_type": "code",
   "execution_count": null,
   "metadata": {},
   "outputs": [],
   "source": [
    "max_features = 20000\n",
    "maxlen = 80  # cut texts after this number of words (among top max_features most common words)\n",
    "batch_size = 32"
   ]
  },
  {
   "cell_type": "code",
   "execution_count": null,
   "metadata": {},
   "outputs": [],
   "source": [
    "print('Loading data...')\n",
    "# Prints the message \"Loading data...\" to the console\n",
    "\n",
    "(x_train, y_train), (x_test, y_test) = imdb.load_data(num_words=20000)\n",
    "# Loads the IMDb movie review sentiment classification dataset using the load_data() function from the imdb module \n",
    "# The dataset is split into training and testing sets, and the reviews are encoded as sequences of integers based on word frequency rankings\n",
    "# The num_words parameter is set to 20000, which limits the vocabulary to the most frequent 20,000 words in the dataset\n",
    "# The training set data is assigned to x_train, the training set labels are assigned to y_train\n",
    "# The testing set data is assigned to x_test, the testing set labels are assigned to y_test\n"
   ]
  },
  {
   "cell_type": "code",
   "execution_count": null,
   "metadata": {},
   "outputs": [],
   "source": [
    "print(len(x_train), 'train sequences')\n",
    "# Prints the number of sequences in the x_train dataset\n",
    "\n",
    "print(len(x_test), 'test sequences')\n",
    "# Prints the number of sequences in the x_test dataset\n",
    "\n",
    "print('Pad sequences (samples x time)')\n",
    "# Prints a message indicating that the sequences are being padded\n",
    "\n",
    "x_train = tf.keras.preprocessing.sequence.pad_sequences(x_train, maxlen=maxlen)\n",
    "# Pads the sequences in the x_train dataset with zeros or truncates them to a maximum length specified by maxlen\n",
    "# Ensures that all sequences have the same length for modeling purposes\n",
    "\n",
    "x_test = tf.keras.preprocessing.sequence.pad_sequences(x_test, maxlen=maxlen)\n",
    "# Pads the sequences in the x_test dataset with zeros or truncates them to a maximum length specified by maxlen\n",
    "# Ensures that all sequences have the same length for modeling purposes\n",
    "\n",
    "print('x_train shape:', x_train.shape)\n",
    "# Prints the shape (dimensions) of the x_train dataset after padding\n",
    "\n",
    "print('x_test shape:', x_test.shape)\n",
    "# Prints the shape (dimensions) of the x_test dataset after padding\n"
   ]
  },
  {
   "cell_type": "code",
   "execution_count": null,
   "metadata": {},
   "outputs": [],
   "source": [
    "print('Build model...')\n",
    "# Prints a message indicating that the model is being built\n",
    "\n",
    "model = Sequential()\n",
    "# Creates a sequential model object, which allows building a model layer-by-layer\n",
    "\n",
    "model.add(Embedding(max_features, 128))\n",
    "# Adds an embedding layer to the model, with max_features as the input dimension and 128 as the output dimension\n",
    "# Embedding layers are commonly used in natural language processing tasks to represent words as dense vectors\n",
    "\n",
    "model.add(LSTM(128, dropout=0.2, recurrent_dropout=0.2))\n",
    "# Adds a Long Short-Term Memory (LSTM) layer to the model with 128 memory units \n",
    "# Dropout is applied to the input and recurrent connections with a rate of 0.2 to prevent overfitting\n",
    "# LSTM layers are often used for sequence modeling tasks, such as text or time series analysis\n",
    "\n",
    "model.add(Dense(1, activation='sigmoid'))\n",
    "# Adds a dense layer to the model with 1 unit and sigmoid activation function\n",
    "# The dense layer is typically used as the output layer in binary classification problems\n"
   ]
  },
  {
   "cell_type": "code",
   "execution_count": null,
   "metadata": {},
   "outputs": [],
   "source": [
    "model.compile(loss='binary_crossentropy',\n",
    "              optimizer='adam',\n",
    "              metrics=['accuracy'])\n",
    "\n",
    "print('Train...')\n",
    "model.fit(x_train, y_train,\n",
    "          batch_size=batch_size,\n",
    "          epochs=1,\n",
    "          validation_data=(x_test, y_test))"
   ]
  },
  {
   "cell_type": "code",
   "execution_count": null,
   "metadata": {},
   "outputs": [],
   "source": [
    "score, acc = model.evaluate(x_test, y_test,\n",
    "                            batch_size=batch_size)\n",
    "\n",
    "print('Test score:', score)\n",
    "print('Test accuracy:', acc)"
   ]
  }
 ],
 "metadata": {
  "kernelspec": {
   "display_name": "Python 3",
   "language": "python",
   "name": "python3"
  },
  "language_info": {
   "codemirror_mode": {
    "name": "ipython",
    "version": 3
   },
   "file_extension": ".py",
   "mimetype": "text/x-python",
   "name": "python",
   "nbconvert_exporter": "python",
   "pygments_lexer": "ipython3",
   "version": "3.10.4"
  }
 },
 "nbformat": 4,
 "nbformat_minor": 4
}
